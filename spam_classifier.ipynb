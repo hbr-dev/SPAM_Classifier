{
 "cells": [
  {
   "cell_type": "code",
   "execution_count": 1,
   "id": "e4670a86-61bd-4f6d-8872-d2e8f2996b01",
   "metadata": {
    "tags": []
   },
   "outputs": [
    {
     "ename": "ModuleNotFoundError",
     "evalue": "No module named 'imblearn'",
     "output_type": "error",
     "traceback": [
      "\u001b[0;31m---------------------------------------------------------------------------\u001b[0m",
      "\u001b[0;31mModuleNotFoundError\u001b[0m                       Traceback (most recent call last)",
      "Cell \u001b[0;32mIn[1], line 8\u001b[0m\n\u001b[1;32m      6\u001b[0m \u001b[38;5;28;01mfrom\u001b[39;00m \u001b[38;5;21;01mnltk\u001b[39;00m\u001b[38;5;21;01m.\u001b[39;00m\u001b[38;5;21;01mcorpus\u001b[39;00m \u001b[38;5;28;01mimport\u001b[39;00m stopwords\n\u001b[1;32m      7\u001b[0m \u001b[38;5;28;01mfrom\u001b[39;00m \u001b[38;5;21;01msklearn\u001b[39;00m\u001b[38;5;21;01m.\u001b[39;00m\u001b[38;5;21;01mmodel_selection\u001b[39;00m \u001b[38;5;28;01mimport\u001b[39;00m train_test_split\n\u001b[0;32m----> 8\u001b[0m \u001b[38;5;28;01mfrom\u001b[39;00m \u001b[38;5;21;01mimblearn\u001b[39;00m\u001b[38;5;21;01m.\u001b[39;00m\u001b[38;5;21;01munder_sampling\u001b[39;00m \u001b[38;5;28;01mimport\u001b[39;00m RandomUnderSampler\n\u001b[1;32m      9\u001b[0m \u001b[38;5;28;01mfrom\u001b[39;00m \u001b[38;5;21;01msklearn\u001b[39;00m\u001b[38;5;21;01m.\u001b[39;00m\u001b[38;5;21;01mnaive_bayes\u001b[39;00m \u001b[38;5;28;01mimport\u001b[39;00m MultinomialNB\n\u001b[1;32m     10\u001b[0m \u001b[38;5;28;01mfrom\u001b[39;00m \u001b[38;5;21;01msklearn\u001b[39;00m\u001b[38;5;21;01m.\u001b[39;00m\u001b[38;5;21;01mmetrics\u001b[39;00m \u001b[38;5;28;01mimport\u001b[39;00m confusion_matrix , classification_report\n",
      "\u001b[0;31mModuleNotFoundError\u001b[0m: No module named 'imblearn'"
     ]
    }
   ],
   "source": [
    "import pandas as pd\n",
    "import re\n",
    "import nltk\n",
    "from sklearn.feature_extraction.text import CountVectorizer\n",
    "from nltk.stem import PorterStemmer\n",
    "from nltk.corpus import stopwords\n",
    "from sklearn.model_selection import train_test_split\n",
    "from imblearn.under_sampling import RandomUnderSampler\n",
    "from sklearn.naive_bayes import MultinomialNB\n",
    "from sklearn.metrics import confusion_matrix , classification_report\n",
    "df = pd.read_csv('train-data.tsv' , sep = '\\t' , names = ['labels','messages'])\n",
    "\n",
    "stemmer = PorterStemmer()\n",
    "bow = []\n",
    "for i in range(0, len(df)):\n",
    "    new_sent = re.sub('[^a-zA-Z]','',df['messages'][i])\n",
    "    new_sent = new_sent.lower()\n",
    "    new_sent = new_sent.split()\n",
    "    new_sent = [stemmer.stem(word) for word in new_sent if word not in set(stopwords.words('english'))]\n",
    "    new_sent = ''.join(new_sent)\n",
    "    bow.append(new_sent)\n",
    "\n",
    "bag_of_words = CountVectorizer(max_features=5000)\n",
    "X = bag_of_words.fit_transform(bow).toarray()\n",
    "X = pd.DataFrame(X)\n",
    "\n",
    "y = pd.get_dummies(df['labels'])\n",
    "y = y.iloc[:,1].values\n",
    "\n",
    "X_train , X_test , y_train , y_test = train_test_split(X , y , test_size=0.3)\n",
    "\n",
    "imb = RandomUnderSampler()\n",
    "X_train , y_train = imb.fit_resample(X_train , y_train)\n",
    "X_train = pd.DataFrame(X_train)\n",
    "y_train = pd.DataFrame(y_train)\n",
    "\n",
    "bayes = MultinomialNB()\n",
    "bayes.fit(X_train , y_train)\n",
    "predictions = bayes.predict(X_test)\n",
    "\n",
    "acc_1 = confusion_matrix(y_test , predictions)\n",
    "acc_2 = classification_report(y_test , predictions)\n",
    "print(acc_1)\n",
    "print(acc_2)\n"
   ]
  },
  {
   "cell_type": "code",
   "execution_count": null,
   "id": "bea1f875-f64e-4b9f-87d3-ba0561859f8e",
   "metadata": {},
   "outputs": [],
   "source": []
  }
 ],
 "metadata": {
  "kernelspec": {
   "display_name": "Python 3 (ipykernel)",
   "language": "python",
   "name": "python3"
  },
  "language_info": {
   "codemirror_mode": {
    "name": "ipython",
    "version": 3
   },
   "file_extension": ".py",
   "mimetype": "text/x-python",
   "name": "python",
   "nbconvert_exporter": "python",
   "pygments_lexer": "ipython3",
   "version": "3.10.13"
  }
 },
 "nbformat": 4,
 "nbformat_minor": 5
}
